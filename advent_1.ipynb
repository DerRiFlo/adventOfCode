{
 "cells": [
  {
   "cell_type": "code",
   "execution_count": 1,
   "id": "82e49d82",
   "metadata": {},
   "outputs": [],
   "source": [
    "import requests\n",
    "url = 'https://adventofcode.com/2021/day/1/input'\n",
    "r = requests.get(url, allow_redirects=True)\n"
   ]
  },
  {
   "cell_type": "code",
   "execution_count": 4,
   "id": "18c9384d",
   "metadata": {},
   "outputs": [
    {
     "data": {
      "text/plain": [
       "b'Puzzle inputs differ by user.  Please log in to get your puzzle input.\\n'"
      ]
     },
     "execution_count": 4,
     "metadata": {},
     "output_type": "execute_result"
    }
   ],
   "source": [
    "r.content"
   ]
  },
  {
   "cell_type": "code",
   "execution_count": 18,
   "id": "6a58cc29",
   "metadata": {},
   "outputs": [
    {
     "name": "stdout",
     "output_type": "stream",
     "text": [
      "err: \n",
      "\n",
      "bigger: 1754\n",
      "total Nums: 2000\n"
     ]
    }
   ],
   "source": [
    "previous = 9999\n",
    "bigger = 0\n",
    "lineNum = 0\n",
    "with open('input1') as file:\n",
    "    Lines = file.readlines()\n",
    "    for line in Lines:\n",
    "        try:\n",
    "            num = int(line)\n",
    "            if num > previous:\n",
    "                bigger = bigger+1\n",
    "            previous=num\n",
    "            lineNum = lineNum+1\n",
    "        except:\n",
    "            print('err: ' + line)\n",
    "print('bigger: ' + str(bigger))\n",
    "print('total Nums: ' + str(lineNum) )"
   ]
  },
  {
   "cell_type": "code",
   "execution_count": 31,
   "id": "98934c5f",
   "metadata": {},
   "outputs": [
    {
     "name": "stdout",
     "output_type": "stream",
     "text": [
      "err: \n",
      "\n",
      "bigger: 1789\n",
      "total Nums: 0\n"
     ]
    }
   ],
   "source": [
    "bigger = 0\n",
    "\n",
    "prev2 =0\n",
    "prev1 =0\n",
    "curr = 0\n",
    "prevAvg =9999\n",
    "counter = 0\n",
    "\n",
    "with open('input1') as file:\n",
    "    Lines = file.readlines()\n",
    "    for line in Lines:\n",
    "        try:\n",
    "            num = int(line)\n",
    "        except:\n",
    "            print('err: ' + line)\n",
    "        prev2 = prev1\n",
    "        prev1 = curr\n",
    "        curr = num\n",
    "        \n",
    "        if counter>2:\n",
    "            avg = (prev2+prev1+curr)\n",
    "            if avg > prevAvg:\n",
    "                bigger = bigger+1\n",
    "            prevAvg = avg\n",
    "        counter = counter+1\n",
    "\n",
    "print('bigger: ' + str(bigger))\n",
    "print('total Nums: ' + str(lineNum) )"
   ]
  },
  {
   "cell_type": "code",
   "execution_count": 30,
   "id": "26132db6",
   "metadata": {},
   "outputs": [
    {
     "data": {
      "text/plain": [
       "10415"
      ]
     },
     "execution_count": 30,
     "metadata": {},
     "output_type": "execute_result"
    }
   ],
   "source": [
    "window[-1]"
   ]
  },
  {
   "cell_type": "code",
   "execution_count": 25,
   "id": "dafc95a3",
   "metadata": {},
   "outputs": [
    {
     "ename": "IndexError",
     "evalue": "list assignment index out of range",
     "output_type": "error",
     "traceback": [
      "\u001b[0;31m---------------------------------------------------------------------------\u001b[0m",
      "\u001b[0;31mIndexError\u001b[0m                                Traceback (most recent call last)",
      "\u001b[0;32m<ipython-input-25-576c5196879a>\u001b[0m in \u001b[0;36m<module>\u001b[0;34m\u001b[0m\n\u001b[0;32m----> 1\u001b[0;31m \u001b[0mtest\u001b[0m\u001b[0;34m[\u001b[0m\u001b[0;36m0\u001b[0m\u001b[0;34m]\u001b[0m\u001b[0;34m=\u001b[0m\u001b[0;36m3\u001b[0m\u001b[0;34m\u001b[0m\u001b[0;34m\u001b[0m\u001b[0m\n\u001b[0m",
      "\u001b[0;31mIndexError\u001b[0m: list assignment index out of range"
     ]
    }
   ],
   "source": [
    "test[0]=3"
   ]
  },
  {
   "cell_type": "code",
   "execution_count": null,
   "id": "f44dc213",
   "metadata": {},
   "outputs": [],
   "source": []
  }
 ],
 "metadata": {
  "kernelspec": {
   "display_name": "Python 3",
   "language": "python",
   "name": "python3"
  },
  "language_info": {
   "codemirror_mode": {
    "name": "ipython",
    "version": 3
   },
   "file_extension": ".py",
   "mimetype": "text/x-python",
   "name": "python",
   "nbconvert_exporter": "python",
   "pygments_lexer": "ipython3",
   "version": "3.8.8"
  }
 },
 "nbformat": 4,
 "nbformat_minor": 5
}
